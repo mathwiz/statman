{
 "cells": [
  {
   "cell_type": "markdown",
   "metadata": {},
   "source": [
    "# First Jupyter Notebook"
   ]
  },
  {
   "cell_type": "markdown",
   "metadata": {},
   "source": [
    "## Examples"
   ]
  },
  {
   "cell_type": "code",
   "execution_count": 2,
   "metadata": {
    "collapsed": false
   },
   "outputs": [
    {
     "name": "stdout",
     "output_type": "stream",
     "text": [
      "Hello World!\n"
     ]
    }
   ],
   "source": [
    "print('Hello World!')"
   ]
  },
  {
   "cell_type": "code",
   "execution_count": 3,
   "metadata": {
    "collapsed": false
   },
   "outputs": [
    {
     "data": {
      "text/plain": [
       "'Hello World'"
      ]
     },
     "execution_count": 3,
     "metadata": {},
     "output_type": "execute_result"
    }
   ],
   "source": [
    "'Hello World'"
   ]
  },
  {
   "cell_type": "code",
   "execution_count": 4,
   "metadata": {
    "collapsed": false
   },
   "outputs": [
    {
     "name": "stdout",
     "output_type": "stream",
     "text": [
      "Package                            Version  \n",
      "---------------------------------- ---------\n",
      "alabaster                          0.7.11   \n",
      "anaconda-client                    1.7.2    \n",
      "anaconda-navigator                 1.8.7    \n",
      "anaconda-project                   0.8.2    \n",
      "appdirs                            1.4.3    \n",
      "asn1crypto                         0.24.0   \n",
      "astroid                            2.0.4    \n",
      "astropy                            3.0.4    \n",
      "atomicwrites                       1.2.1    \n",
      "attrs                              18.2.0   \n",
      "Automat                            0.7.0    \n",
      "Babel                              2.6.0    \n",
      "backcall                           0.1.0    \n",
      "backports.shutil-get-terminal-size 1.0.0    \n",
      "beautifulsoup4                     4.6.3    \n",
      "bitarray                           0.8.3    \n",
      "bkcharts                           0.2      \n",
      "blaze                              0.11.3   \n",
      "bleach                             2.1.4    \n",
      "bokeh                              0.13.0   \n",
      "boto                               2.49.0   \n",
      "Bottleneck                         1.2.1    \n",
      "certifi                            2018.8.24\n",
      "cffi                               1.11.5   \n",
      "chardet                            3.0.4    \n",
      "chest                              0.2.3    \n",
      "click                              6.7      \n",
      "cloudpickle                        0.5.5    \n",
      "clyent                             1.2.2    \n",
      "colorama                           0.3.9    \n",
      "comtypes                           1.1.7    \n",
      "conda                              4.5.11   \n",
      "configobj                          5.0.6    \n",
      "constantly                         15.1.0   \n",
      "contextlib2                        0.5.5    \n",
      "cryptography                       2.3.1    \n",
      "cryptography-vectors               2.3.1    \n",
      "cycler                             0.10.0   \n",
      "Cython                             0.28.5   \n",
      "cytoolz                            0.9.0.1  \n",
      "dask                               0.19.1   \n",
      "datashape                          0.5.4    \n",
      "decorator                          4.3.0    \n",
      "dill                               0.2.8.2  \n",
      "distributed                        1.23.1   \n",
      "docutils                           0.14     \n",
      "entrypoints                        0.2.3    \n",
      "et-xmlfile                         1.0.1    \n",
      "fastcache                          1.0.2    \n",
      "Flask                              1.0.2    \n",
      "Flask-Cors                         3.0.6    \n",
      "gevent                             1.3.6    \n",
      "greenlet                           0.4.15   \n",
      "h5py                               2.8.0    \n",
      "heapdict                           1.0.0    \n",
      "html5lib                           1.0.1    \n",
      "hyperlink                          18.0.0   \n",
      "idna                               2.7      \n",
      "imageio                            2.4.1    \n",
      "imagesize                          1.1.0    \n",
      "incremental                        17.5.0   \n",
      "ipykernel                          4.9.0    \n",
      "ipython                            6.5.0    \n",
      "ipython-genutils                   0.2.0    \n",
      "ipywidgets                         7.4.1    \n",
      "isort                              4.3.4    \n",
      "itsdangerous                       0.24     \n",
      "jdcal                              1.4      \n",
      "jedi                               0.12.1   \n",
      "Jinja2                             2.10     \n",
      "jsonschema                         2.6.0    \n",
      "jupyter                            1.0.0    \n",
      "jupyter-client                     5.2.3    \n",
      "jupyter-console                    5.2.0    \n",
      "jupyter-core                       4.4.0    \n",
      "keyring                            13.2.1   \n",
      "kiwisolver                         1.0.1    \n",
      "lazy-object-proxy                  1.3.1    \n",
      "llvmlite                           0.24.0   \n",
      "locket                             0.2.0    \n",
      "lxml                               4.2.5    \n",
      "MarkupSafe                         1.0      \n",
      "matplotlib                         2.2.3    \n",
      "mccabe                             0.6.1    \n",
      "menuinst                           1.4.14   \n",
      "mistune                            0.8.3    \n",
      "mkl-fft                            1.0.4    \n",
      "mkl-random                         1.0.1    \n",
      "more-itertools                     4.3.0    \n",
      "mpmath                             1.0.0    \n",
      "msgpack                            0.5.6    \n",
      "multipledispatch                   0.6.0    \n",
      "navigator-updater                  0.2.1    \n",
      "nbconvert                          5.3.1    \n",
      "nbformat                           4.4.0    \n",
      "networkx                           2.1      \n",
      "nltk                               3.3      \n",
      "nose                               1.3.7    \n",
      "notebook                           5.6.0    \n",
      "numba                              0.39.0   \n",
      "numexpr                            2.6.8    \n",
      "numpy                              1.15.1   \n",
      "numpydoc                           0.8.0    \n",
      "odo                                0.5.1    \n",
      "olefile                            0.46     \n",
      "openpyxl                           2.5.6    \n",
      "packaging                          17.1     \n",
      "pandas                             0.23.4   \n",
      "pandocfilters                      1.4.2    \n",
      "parso                              0.3.1    \n",
      "partd                              0.3.8    \n",
      "path.py                            11.1.0   \n",
      "pathlib2                           2.3.2    \n",
      "patsy                              0.5.0    \n",
      "pep8                               1.7.1    \n",
      "pickleshare                        0.7.4    \n",
      "Pillow                             5.2.0    \n",
      "pip                                18.0     \n",
      "pluggy                             0.7.1    \n",
      "ply                                3.11     \n",
      "prometheus-client                  0.3.1    \n",
      "prompt-toolkit                     1.0.15   \n",
      "psutil                             5.4.7    \n",
      "py                                 1.6.0    \n",
      "pyasn1                             0.4.4    \n",
      "pyasn1-modules                     0.2.2    \n",
      "pycodestyle                        2.4.0    \n",
      "pycosat                            0.6.3    \n",
      "pycparser                          2.18     \n",
      "pycrypto                           2.6.1    \n",
      "pycurl                             7.43.0.2 \n",
      "pyflakes                           2.0.0    \n",
      "Pygments                           2.2.0    \n",
      "pylint                             2.1.1    \n",
      "pyodbc                             4.0.24   \n",
      "pyOpenSSL                          18.0.0   \n",
      "pyparsing                          2.2.0    \n",
      "pyreadline                         2.1      \n",
      "PySocks                            1.6.8    \n",
      "pytest                             3.8.0    \n",
      "pytest-arraydiff                   0.2      \n",
      "pytest-astropy                     0.4.0    \n",
      "pytest-doctestplus                 0.1.3    \n",
      "pytest-openfiles                   0.3.0    \n",
      "pytest-remotedata                  0.3.0    \n",
      "python-dateutil                    2.7.3    \n",
      "pytz                               2018.5   \n",
      "PyWavelets                         1.0.0    \n",
      "pywin32                            223      \n",
      "pywinpty                           0.5.4    \n",
      "PyYAML                             3.13     \n",
      "pyzmq                              17.1.2   \n",
      "QtAwesome                          0.4.4    \n",
      "qtconsole                          4.4.1    \n",
      "QtPy                               1.5.0    \n",
      "requests                           2.19.1   \n",
      "rope                               0.11.0   \n",
      "ruamel-yaml                        0.15.46  \n",
      "scikit-image                       0.14.0   \n",
      "scikit-learn                       0.19.2   \n",
      "scipy                              1.1.0    \n",
      "seaborn                            0.9.0    \n",
      "Send2Trash                         1.5.0    \n",
      "service-identity                   17.0.0   \n",
      "setuptools                         40.2.0   \n",
      "simplegeneric                      0.8.1    \n",
      "singledispatch                     3.4.0.3  \n",
      "sip                                4.19.12  \n",
      "six                                1.11.0   \n",
      "snowballstemmer                    1.2.1    \n",
      "sockjs-tornado                     1.0.3    \n",
      "sortedcollections                  1.0.1    \n",
      "sortedcontainers                   2.0.5    \n",
      "Sphinx                             1.7.9    \n",
      "sphinxcontrib-websupport           1.1.0    \n",
      "spyder                             3.3.1    \n",
      "spyder-kernels                     1.0.1    \n",
      "SQLAlchemy                         1.2.11   \n",
      "statsmodels                        0.9.0    \n",
      "sympy                              1.2      \n",
      "tables                             3.4.4    \n",
      "tblib                              1.3.2    \n",
      "terminado                          0.8.1    \n",
      "testpath                           0.3.1    \n",
      "toolz                              0.9.0    \n",
      "tornado                            5.1      \n",
      "traitlets                          4.3.2    \n",
      "Twisted                            18.7.0   \n",
      "typed-ast                          1.1.0    \n",
      "typing                             3.6.4    \n",
      "unicodecsv                         0.14.1   \n",
      "urllib3                            1.23     \n",
      "wcwidth                            0.1.7    \n",
      "webencodings                       0.5.1    \n",
      "Werkzeug                           0.14.1   \n",
      "wheel                              0.31.1   \n",
      "widgetsnbextension                 3.4.1    \n",
      "win-inet-pton                      1.0.1    \n",
      "win-unicode-console                0.5      \n",
      "wincertstore                       0.2      \n",
      "wrapt                              1.10.11  \n",
      "xlrd                               1.1.0    \n",
      "XlsxWriter                         1.1.0    \n",
      "xlwings                            0.11.8   \n",
      "xlwt                               1.3.0    \n",
      "zict                               0.1.3    \n",
      "zope.interface                     4.5.0    \n"
     ]
    }
   ],
   "source": [
    "!pip list"
   ]
  },
  {
   "cell_type": "code",
   "execution_count": 5,
   "metadata": {
    "collapsed": false
   },
   "outputs": [
    {
     "data": {
      "application/json": {
       "cell": {
        "!": "OSMagics",
        "HTML": "Other",
        "SVG": "Other",
        "bash": "Other",
        "capture": "ExecutionMagics",
        "cmd": "Other",
        "debug": "ExecutionMagics",
        "file": "Other",
        "html": "DisplayMagics",
        "javascript": "DisplayMagics",
        "js": "DisplayMagics",
        "latex": "DisplayMagics",
        "markdown": "DisplayMagics",
        "perl": "Other",
        "prun": "ExecutionMagics",
        "pypy": "Other",
        "python": "Other",
        "python2": "Other",
        "python3": "Other",
        "ruby": "Other",
        "script": "ScriptMagics",
        "sh": "Other",
        "svg": "DisplayMagics",
        "sx": "OSMagics",
        "system": "OSMagics",
        "time": "ExecutionMagics",
        "timeit": "ExecutionMagics",
        "writefile": "OSMagics"
       },
       "line": {
        "alias": "OSMagics",
        "alias_magic": "BasicMagics",
        "autocall": "AutoMagics",
        "automagic": "AutoMagics",
        "autosave": "KernelMagics",
        "bookmark": "OSMagics",
        "cd": "OSMagics",
        "clear": "KernelMagics",
        "cls": "KernelMagics",
        "colors": "BasicMagics",
        "config": "ConfigMagics",
        "connect_info": "KernelMagics",
        "copy": "Other",
        "ddir": "Other",
        "debug": "ExecutionMagics",
        "dhist": "OSMagics",
        "dirs": "OSMagics",
        "doctest_mode": "BasicMagics",
        "echo": "Other",
        "ed": "Other",
        "edit": "KernelMagics",
        "env": "OSMagics",
        "gui": "BasicMagics",
        "hist": "Other",
        "history": "HistoryMagics",
        "killbgscripts": "ScriptMagics",
        "ldir": "Other",
        "less": "KernelMagics",
        "load": "CodeMagics",
        "load_ext": "ExtensionMagics",
        "loadpy": "CodeMagics",
        "logoff": "LoggingMagics",
        "logon": "LoggingMagics",
        "logstart": "LoggingMagics",
        "logstate": "LoggingMagics",
        "logstop": "LoggingMagics",
        "ls": "Other",
        "lsmagic": "BasicMagics",
        "macro": "ExecutionMagics",
        "magic": "BasicMagics",
        "matplotlib": "PylabMagics",
        "mkdir": "Other",
        "more": "KernelMagics",
        "notebook": "BasicMagics",
        "page": "BasicMagics",
        "pastebin": "CodeMagics",
        "pdb": "ExecutionMagics",
        "pdef": "NamespaceMagics",
        "pdoc": "NamespaceMagics",
        "pfile": "NamespaceMagics",
        "pinfo": "NamespaceMagics",
        "pinfo2": "NamespaceMagics",
        "pip": "BasicMagics",
        "popd": "OSMagics",
        "pprint": "BasicMagics",
        "precision": "BasicMagics",
        "profile": "BasicMagics",
        "prun": "ExecutionMagics",
        "psearch": "NamespaceMagics",
        "psource": "NamespaceMagics",
        "pushd": "OSMagics",
        "pwd": "OSMagics",
        "pycat": "OSMagics",
        "pylab": "PylabMagics",
        "qtconsole": "KernelMagics",
        "quickref": "BasicMagics",
        "recall": "HistoryMagics",
        "rehashx": "OSMagics",
        "reload_ext": "ExtensionMagics",
        "ren": "Other",
        "rep": "Other",
        "rerun": "HistoryMagics",
        "reset": "NamespaceMagics",
        "reset_selective": "NamespaceMagics",
        "rmdir": "Other",
        "run": "ExecutionMagics",
        "save": "CodeMagics",
        "sc": "OSMagics",
        "set_env": "OSMagics",
        "store": "StoreMagics",
        "sx": "OSMagics",
        "system": "OSMagics",
        "tb": "ExecutionMagics",
        "time": "ExecutionMagics",
        "timeit": "ExecutionMagics",
        "unalias": "OSMagics",
        "unload_ext": "ExtensionMagics",
        "who": "NamespaceMagics",
        "who_ls": "NamespaceMagics",
        "whos": "NamespaceMagics",
        "xdel": "NamespaceMagics",
        "xmode": "BasicMagics"
       }
      },
      "text/plain": [
       "Available line magics:\n",
       "%alias  %alias_magic  %autocall  %automagic  %autosave  %bookmark  %cd  %clear  %cls  %colors  %config  %connect_info  %copy  %ddir  %debug  %dhist  %dirs  %doctest_mode  %echo  %ed  %edit  %env  %gui  %hist  %history  %killbgscripts  %ldir  %less  %load  %load_ext  %loadpy  %logoff  %logon  %logstart  %logstate  %logstop  %ls  %lsmagic  %macro  %magic  %matplotlib  %mkdir  %more  %notebook  %page  %pastebin  %pdb  %pdef  %pdoc  %pfile  %pinfo  %pinfo2  %popd  %pprint  %precision  %profile  %prun  %psearch  %psource  %pushd  %pwd  %pycat  %pylab  %qtconsole  %quickref  %recall  %rehashx  %reload_ext  %ren  %rep  %rerun  %reset  %reset_selective  %rmdir  %run  %save  %sc  %set_env  %store  %sx  %system  %tb  %time  %timeit  %unalias  %unload_ext  %who  %who_ls  %whos  %xdel  %xmode\n",
       "\n",
       "Available cell magics:\n",
       "%%!  %%HTML  %%SVG  %%bash  %%capture  %%cmd  %%debug  %%file  %%html  %%javascript  %%js  %%latex  %%markdown  %%perl  %%prun  %%pypy  %%python  %%python2  %%python3  %%ruby  %%script  %%sh  %%svg  %%sx  %%system  %%time  %%timeit  %%writefile\n",
       "\n",
       "Automagic is ON, % prefix IS NOT needed for line magics."
      ]
     },
     "execution_count": 5,
     "metadata": {},
     "output_type": "execute_result"
    }
   ],
   "source": [
    "%lsmagic"
   ]
  },
  {
   "cell_type": "code",
   "execution_count": 6,
   "metadata": {
    "collapsed": false
   },
   "outputs": [
    {
     "data": {
      "text/plain": [
       "'C:\\\\Users\\\\yohan\\\\GitHub\\\\statman\\\\examples\\\\jupyter'"
      ]
     },
     "execution_count": 6,
     "metadata": {},
     "output_type": "execute_result"
    }
   ],
   "source": [
    "%pwd"
   ]
  },
  {
   "cell_type": "code",
   "execution_count": 7,
   "metadata": {
    "collapsed": false
   },
   "outputs": [
    {
     "name": "stdout",
     "output_type": "stream",
     "text": [
      " Volume in drive C has no label.\n",
      " Volume Serial Number is E450-746F\n",
      "\n",
      " Directory of C:\\Users\\yohan\\GitHub\\statman\\examples\\jupyter\n",
      "\n",
      "09/22/2018  01:19 PM    <DIR>          .\n",
      "09/22/2018  01:19 PM    <DIR>          ..\n",
      "09/22/2018  11:16 AM    <DIR>          .ipynb_checkpoints\n",
      "09/22/2018  01:19 PM            60,099 Jupyter001.ipynb\n",
      "               1 File(s)         60,099 bytes\n",
      "               3 Dir(s)  63,272,792,064 bytes free\n"
     ]
    }
   ],
   "source": [
    "%ls"
   ]
  },
  {
   "cell_type": "code",
   "execution_count": 8,
   "metadata": {
    "collapsed": true
   },
   "outputs": [],
   "source": [
    "matplotlib inline"
   ]
  },
  {
   "cell_type": "code",
   "execution_count": 9,
   "metadata": {
    "collapsed": false
   },
   "outputs": [
    {
     "data": {
      "image/png": "[encoded data removed]",
      "text/plain": [
       "<Figure size 432x288 with 1 Axes>"
      ]
     },
     "metadata": {
      "needs_background": "light"
     },
     "output_type": "display_data"
    }
   ],
   "source": [
    "# Demo of scatter plot\n",
    "\n",
    "import numpy as np\n",
    "import matplotlib.pyplot as plt\n",
    "\n",
    "N = 50\n",
    "x = np.random.rand(N)\n",
    "y = np.random.rand(N)\n",
    "colors = np.random.rand(N)\n",
    "area = np.pi * (15 * np.random.rand(N))**2 # 0 to 15 point radiuses\n",
    "\n",
    "plt.scatter(x, y, s=area, c=colors, alpha=0.5)\n",
    "plt.show()"
   ]
  },
  {
   "cell_type": "code",
   "execution_count": 10,
   "metadata": {
    "collapsed": false
   },
   "outputs": [
    {
     "data": {
      "text/html": [
       "<table>\n",
       "<tr><td>Name</td><td>Value</td></tr>\n",
       "<tr><td>FName</td><td>Yohan</td></tr>\n",
       "</table>"
      ],
      "text/plain": [
       "<IPython.core.display.HTML object>"
      ]
     },
     "metadata": {},
     "output_type": "display_data"
    }
   ],
   "source": [
    "%%HTML\n",
    "<table>\n",
    "<tr><td>Name</td><td>Value</td></tr>\n",
    "<tr><td>FName</td><td>Yohan</td></tr>\n",
    "</table>"
   ]
  },
  {
   "cell_type": "code",
   "execution_count": 11,
   "metadata": {
    "collapsed": false
   },
   "outputs": [
    {
     "data": {
      "application/javascript": [
       "console.log(\"Javascript says hi\")"
      ],
      "text/plain": [
       "<IPython.core.display.Javascript object>"
      ]
     },
     "metadata": {},
     "output_type": "display_data"
    }
   ],
   "source": [
    "%%javascript\n",
    "console.log(\"Javascript says hi\")"
   ]
  },
  {
   "cell_type": "code",
   "execution_count": 12,
   "metadata": {
    "collapsed": false
   },
   "outputs": [
    {
     "data": {
      "text/html": [
       "<div>\n",
       "<style scoped>\n",
       "    .dataframe tbody tr th:only-of-type {\n",
       "        vertical-align: middle;\n",
       "    }\n",
       "\n",
       "    .dataframe tbody tr th {\n",
       "        vertical-align: top;\n",
       "    }\n",
       "\n",
       "    .dataframe thead th {\n",
       "        text-align: right;\n",
       "    }\n",
       "</style>\n",
       "<table border=\"1\" class=\"dataframe\">\n",
       "  <thead>\n",
       "    <tr style=\"text-align: right;\">\n",
       "      <th></th>\n",
       "      <th>0</th>\n",
       "      <th>1</th>\n",
       "      <th>2</th>\n",
       "      <th>3</th>\n",
       "      <th>4</th>\n",
       "    </tr>\n",
       "  </thead>\n",
       "  <tbody>\n",
       "    <tr>\n",
       "      <th>0</th>\n",
       "      <td>1.548127</td>\n",
       "      <td>1.693403</td>\n",
       "      <td>0.892460</td>\n",
       "      <td>0.975146</td>\n",
       "      <td>0.370726</td>\n",
       "    </tr>\n",
       "    <tr>\n",
       "      <th>1</th>\n",
       "      <td>0.137815</td>\n",
       "      <td>-1.961140</td>\n",
       "      <td>0.299740</td>\n",
       "      <td>0.343782</td>\n",
       "      <td>0.437896</td>\n",
       "    </tr>\n",
       "    <tr>\n",
       "      <th>2</th>\n",
       "      <td>1.703740</td>\n",
       "      <td>0.521379</td>\n",
       "      <td>1.241039</td>\n",
       "      <td>-0.728148</td>\n",
       "      <td>0.770192</td>\n",
       "    </tr>\n",
       "    <tr>\n",
       "      <th>3</th>\n",
       "      <td>1.685039</td>\n",
       "      <td>-0.821190</td>\n",
       "      <td>-0.561139</td>\n",
       "      <td>-0.245991</td>\n",
       "      <td>0.684900</td>\n",
       "    </tr>\n",
       "    <tr>\n",
       "      <th>4</th>\n",
       "      <td>0.417672</td>\n",
       "      <td>0.297188</td>\n",
       "      <td>-0.594794</td>\n",
       "      <td>-0.899493</td>\n",
       "      <td>-2.239380</td>\n",
       "    </tr>\n",
       "    <tr>\n",
       "      <th>5</th>\n",
       "      <td>1.190496</td>\n",
       "      <td>-1.952810</td>\n",
       "      <td>1.820792</td>\n",
       "      <td>0.025930</td>\n",
       "      <td>-1.648276</td>\n",
       "    </tr>\n",
       "    <tr>\n",
       "      <th>6</th>\n",
       "      <td>-0.402226</td>\n",
       "      <td>1.090848</td>\n",
       "      <td>1.100458</td>\n",
       "      <td>-1.163967</td>\n",
       "      <td>-3.123548</td>\n",
       "    </tr>\n",
       "    <tr>\n",
       "      <th>7</th>\n",
       "      <td>-0.515108</td>\n",
       "      <td>0.497832</td>\n",
       "      <td>0.439004</td>\n",
       "      <td>0.023396</td>\n",
       "      <td>-0.424800</td>\n",
       "    </tr>\n",
       "    <tr>\n",
       "      <th>8</th>\n",
       "      <td>-0.409987</td>\n",
       "      <td>0.168806</td>\n",
       "      <td>1.378326</td>\n",
       "      <td>0.020622</td>\n",
       "      <td>0.166397</td>\n",
       "    </tr>\n",
       "    <tr>\n",
       "      <th>9</th>\n",
       "      <td>-0.746845</td>\n",
       "      <td>0.339011</td>\n",
       "      <td>0.124039</td>\n",
       "      <td>-0.634591</td>\n",
       "      <td>-0.548953</td>\n",
       "    </tr>\n",
       "  </tbody>\n",
       "</table>\n",
       "</div>"
      ],
      "text/plain": [
       "          0         1         2         3         4\n",
       "0  1.548127  1.693403  0.892460  0.975146  0.370726\n",
       "1  0.137815 -1.961140  0.299740  0.343782  0.437896\n",
       "2  1.703740  0.521379  1.241039 -0.728148  0.770192\n",
       "3  1.685039 -0.821190 -0.561139 -0.245991  0.684900\n",
       "4  0.417672  0.297188 -0.594794 -0.899493 -2.239380\n",
       "5  1.190496 -1.952810  1.820792  0.025930 -1.648276\n",
       "6 -0.402226  1.090848  1.100458 -1.163967 -3.123548\n",
       "7 -0.515108  0.497832  0.439004  0.023396 -0.424800\n",
       "8 -0.409987  0.168806  1.378326  0.020622  0.166397\n",
       "9 -0.746845  0.339011  0.124039 -0.634591 -0.548953"
      ]
     },
     "execution_count": 12,
     "metadata": {},
     "output_type": "execute_result"
    }
   ],
   "source": [
    "import pandas as pd\n",
    "import numpy as np\n",
    "\n",
    "pd.DataFrame(np.random.randn(10, 5))"
   ]
  },
  {
   "cell_type": "code",
   "execution_count": null,
   "metadata": {
    "collapsed": true
   },
   "outputs": [],
   "source": []
  }
 ],
 "metadata": {
  "kernelspec": {
   "display_name": "Python 3",
   "language": "python",
   "name": "python3"
  },
  "language_info": {
   "codemirror_mode": {
    "name": "ipython",
    "version": 3
   },
   "file_extension": ".py",
   "mimetype": "text/x-python",
   "name": "python",
   "nbconvert_exporter": "python",
   "pygments_lexer": "ipython3",
   "version": "3.6.0"
  }
 },
 "nbformat": 4,
 "nbformat_minor": 2
}
